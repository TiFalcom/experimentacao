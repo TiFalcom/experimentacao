{
 "cells": [
  {
   "cell_type": "code",
   "execution_count": 102,
   "metadata": {},
   "outputs": [],
   "source": [
    "import torch\n",
    "from torch.utils.data import Dataset\n",
    "from torchvision.transforms import ToTensor\n",
    "from torch.utils.data import DataLoader\n",
    "import matplotlib.pyplot as plt\n",
    "from pathlib import Path\n",
    "import os\n",
    "from datetime import datetime, timedelta\n",
    "import pandas as pd\n",
    "\n",
    "\n",
    "project_dir = Path('__main__').resolve().parents[1]"
   ]
  },
  {
   "cell_type": "markdown",
   "metadata": {},
   "source": [
    "# DataLoader"
   ]
  },
  {
   "cell_type": "code",
   "execution_count": 105,
   "metadata": {},
   "outputs": [],
   "source": [
    "class LSTMDataSet(Dataset):\n",
    "    def __init__(self, features_file, target_file):\n",
    "        self.features_table = pd.read_parquet(os.path.join(project_dir, 'data', 'interim', features_file))\n",
    "        self.target_table = pd.read_parquet(os.path.join(project_dir, 'data', 'interim', target_file))\n",
    "\n",
    "\n",
    "    def __len__(self):\n",
    "        return self.target_table.shape[0]\n",
    "\n",
    "\n",
    "    def _get_data(self, idx):\n",
    "        df = self.target_table.iloc[idx : idx+1].reset_index(drop=True)\n",
    "\n",
    "        cc_num = df['cc_num'][0]\n",
    "        ano_mes_sup = pd.to_datetime(df['ano_mes'][0])\n",
    "        ano_mes_inf = pd.to_datetime(df['ano_mes'][0]) - timedelta(days=366)\n",
    "        range_dates = pd.date_range(ano_mes_inf, ano_mes_sup, inclusive='left', freq='MS')\n",
    "\n",
    "        df_default = pd.DataFrame({\n",
    "            'cc_num' : [cc_num] * 12,\n",
    "            'ano_mes_cruzamento' : range_dates\n",
    "        })\n",
    "\n",
    "        df = df.merge(df_default, how='left', on='cc_num')\n",
    "\n",
    "        filter = (self.features_table['cc_num'] == 'cc_num') & (pd.to_datetime(self.features_table['ano_mes']) >= ano_mes_inf) & (pd.to_datetime(self.features_table['ano_mes']) < ano_mes_sup)\n",
    "\n",
    "        df = df.merge(self.features_table[filter].rename(columns={'ano_mes' : 'ano_mes_cruzamento'}), how='left', on=['cc_num', 'ano_mes_cruzamento'])\n",
    "\n",
    "        return df\n",
    "\n",
    "    def __getitem__(self, idx):\n",
    "\n",
    "        df = self._get_data(idx)\n",
    "        return df.drop(columns=['ano_mes', 'ano_mes_cruzamento', 'is_fraud', 'cc_num']), df['is_fraud']\n"
   ]
  },
  {
   "cell_type": "code",
   "execution_count": 106,
   "metadata": {},
   "outputs": [],
   "source": [
    "training_data = LSTMDataSet(features_file='processed.parquet.gzip', target_file='abt.parquet.gzip')\n",
    "test_data = LSTMDataSet(features_file='processed.parquet.gzip', target_file='abt.parquet.gzip')"
   ]
  },
  {
   "cell_type": "code",
   "execution_count": 108,
   "metadata": {},
   "outputs": [],
   "source": [
    "train_dataloader = DataLoader(training_data, batch_size=128, shuffle=True)\n",
    "test_dataloader = DataLoader(test_data, batch_size=128, shuffle=True)"
   ]
  },
  {
   "cell_type": "code",
   "execution_count": null,
   "metadata": {},
   "outputs": [],
   "source": []
  }
 ],
 "metadata": {
  "kernelspec": {
   "display_name": "Python 3",
   "language": "python",
   "name": "python3"
  },
  "language_info": {
   "codemirror_mode": {
    "name": "ipython",
    "version": 3
   },
   "file_extension": ".py",
   "mimetype": "text/x-python",
   "name": "python",
   "nbconvert_exporter": "python",
   "pygments_lexer": "ipython3",
   "version": "3.12.4"
  }
 },
 "nbformat": 4,
 "nbformat_minor": 2
}
